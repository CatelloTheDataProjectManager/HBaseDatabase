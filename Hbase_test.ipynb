{
 "cells": [
  {
   "cell_type": "code",
   "execution_count": 2,
   "id": "5c9e8e2b-635f-46d8-9c55-ca51938ec70e",
   "metadata": {},
   "outputs": [],
   "source": [
    "# !pip install happybase\n",
    "import happybase"
   ]
  },
  {
   "cell_type": "markdown",
   "id": "59573ff6-a2cb-425c-9153-782f266884c9",
   "metadata": {},
   "source": [
    "##### Get IPAddress in Docker"
   ]
  },
  {
   "cell_type": "code",
   "execution_count": 4,
   "id": "22b5cb9f-2a3a-4f67-bb68-e524c10c39ed",
   "metadata": {},
   "outputs": [],
   "source": [
    "# Docker Shell\n",
    "    # docker ps\n",
    "    # docker inspect \\  -f '{{range.NetworkSettings.Networks}}{{.IPAddress}}{{end}}' xxxxxxxxxx\n",
    "\n",
    "# Hbase Shell\n",
    "    # hbase shell\n",
    "    # status\n"
   ]
  },
  {
   "cell_type": "code",
   "execution_count": 50,
   "id": "6b685be3-ac76-47cd-9acf-1e619e62388d",
   "metadata": {},
   "outputs": [],
   "source": [
    "with open('config.json', 'r') as config_file:\n",
    "    config_dict = json.load(config_file)\n",
    "\n",
    "hbase_ip = config_dict['hbase_ip']\n",
    "connection = Connection(host=hbase_ip, port=9090)"
   ]
  },
  {
   "cell_type": "markdown",
   "id": "c0509459-359d-4d0f-b975-127b57909572",
   "metadata": {},
   "source": [
    "#### Hbase Connection"
   ]
  },
  {
   "cell_type": "code",
   "execution_count": 51,
   "id": "6ef5468b-3c0f-40d3-8187-a7441bf57ca5",
   "metadata": {},
   "outputs": [],
   "source": [
    "connection = Connection(host=hbase_ip, port=9090, timeout=10000)"
   ]
  },
  {
   "cell_type": "markdown",
   "id": "b92f00cf-8f8d-4d59-a8f4-fec19d780b0e",
   "metadata": {},
   "source": [
    "#### Database Creation"
   ]
  },
  {
   "cell_type": "code",
   "execution_count": 7,
   "id": "22b20f22-4818-465b-bd20-49bf91238f81",
   "metadata": {},
   "outputs": [],
   "source": [
    "table_schema = {'address': {}, 'order': {}}\n",
    "connection.create_table('customer', table_schema)"
   ]
  },
  {
   "cell_type": "code",
   "execution_count": 18,
   "id": "cd0c1e1b-cac2-496c-9a87-10f6c957e334",
   "metadata": {},
   "outputs": [
    {
     "name": "stdout",
     "output_type": "stream",
     "text": [
      "List of tables in HBase:\n",
      "b'customer'\n"
     ]
    }
   ],
   "source": [
    "tables = connection.tables()\n",
    "print(\"List of tables in HBase:\")\n",
    "for table in tables:\n",
    "    print(table)"
   ]
  },
  {
   "cell_type": "code",
   "execution_count": 19,
   "id": "47279f29-a2a6-4be0-9a32-748d3e54f4ba",
   "metadata": {},
   "outputs": [],
   "source": [
    "table = Table('customer', connection)\n",
    "\n",
    "# Add a client to the table\n",
    "client_id = '1'\n",
    "table.put(client_id, {'address:city': 'Paris', 'address:state': 'France', 'address:street': 'Bailly'})\n",
    "table.put(client_id, {'order:number': 'ORD-15', 'order:amount': '15'})\n"
   ]
  },
  {
   "cell_type": "code",
   "execution_count": 20,
   "id": "b8dd6df0-6576-4ae2-a7b1-d30717a093d5",
   "metadata": {},
   "outputs": [
    {
     "name": "stdout",
     "output_type": "stream",
     "text": [
      "Row key: b'1'\n",
      "Columns:\n",
      "   b'address:city' = Paris\n",
      "   b'address:state' = France\n",
      "   b'address:street' = Bailly\n",
      "   b'order:amount' = 15\n",
      "   b'order:number' = ORD-15\n",
      "\n"
     ]
    }
   ],
   "source": [
    "# Scan the table and print the results\n",
    "for row in table.scan():\n",
    "    print(\"Row key:\", row[0])\n",
    "    print(\"Columns:\")\n",
    "    for column, value in row[1].items():\n",
    "        print(\"  \", column, \"=\", value.decode())\n",
    "    print()"
   ]
  },
  {
   "cell_type": "code",
   "execution_count": 25,
   "id": "d24a817d-7f2c-45ae-9867-f0a0d2421eb8",
   "metadata": {},
   "outputs": [],
   "source": [
    "# Add a second client to the table\n",
    "client_id = '2'\n",
    "table.put(client_id, {'address:city': 'Nancy', 'address:state': 'France', 'address:street': 'Belfort'})\n",
    "table.put(client_id, {'order:number': 'ORD-16', 'order:amount': '15'})\n"
   ]
  },
  {
   "cell_type": "code",
   "execution_count": 39,
   "id": "65ed5de6-149b-4b1c-9a22-c483816f9620",
   "metadata": {},
   "outputs": [
    {
     "name": "stdout",
     "output_type": "stream",
     "text": [
      "Row key: b'1'\n",
      "Columns:\n",
      "   b'address:city' = Paris\n",
      "   b'address:state' = France\n",
      "   b'address:street' = Bailly\n",
      "   b'order:amount' = 15\n",
      "   b'order:number' = ORD-15\n",
      "\n",
      "Row key: b'2'\n",
      "Columns:\n",
      "   b'address:city' = Nancy\n",
      "   b'address:state' = France\n",
      "   b'address:street' = Belfort\n",
      "   b'order:amount' = 15\n",
      "   b'order:number' = ORD-16\n",
      "\n"
     ]
    }
   ],
   "source": [
    "# Scan the table and print the results\n",
    "for row in table.scan():\n",
    "    print(\"Row key:\", row[0])\n",
    "    print(\"Columns:\")\n",
    "    for column, value in row[1].items():\n",
    "        print(\"  \", column, \"=\", value.decode())\n",
    "    print()\n"
   ]
  },
  {
   "cell_type": "code",
   "execution_count": 44,
   "id": "62f8f935-ce47-4a18-815f-d7daeab310f3",
   "metadata": {},
   "outputs": [
    {
     "name": "stdout",
     "output_type": "stream",
     "text": [
      "Row key: 1\n",
      "Columns:\n",
      "   b'address:city' = Paris\n",
      "   b'address:state' = France\n",
      "   b'address:street' = Bailly\n",
      "   b'order:amount' = 15\n",
      "   b'order:number' = ORD-15\n"
     ]
    }
   ],
   "source": [
    "# Retrieve the row with row key '1'\n",
    "row_key = '1'\n",
    "row = table.row(row_key)\n",
    "print(\"Row key:\", row_key)\n",
    "print(\"Columns:\")\n",
    "for column, value in row.items():\n",
    "    print(\"  \", column, \"=\", value.decode())\n"
   ]
  },
  {
   "cell_type": "markdown",
   "id": "183b91c7-ab0e-43de-93cf-b7bd060de80a",
   "metadata": {},
   "source": [
    "***get and scan*** are two different methods in HBase to retrieve data from a table.\n",
    "\n",
    "- The result of get is a dictionary that maps column names to their values.\n",
    "- The result of scan is a list of dictionaries, where each dictionary represents a row and maps column names to their values."
   ]
  },
  {
   "cell_type": "code",
   "execution_count": 54,
   "id": "a47addbc-6ecb-4298-bc7f-e665e5eb0cfe",
   "metadata": {},
   "outputs": [
    {
     "name": "stdout",
     "output_type": "stream",
     "text": [
      "Number of clients in customer table: 2\n"
     ]
    }
   ],
   "source": [
    "# To count the number of rows\n",
    "num_rows = 0\n",
    "for row in table.scan():\n",
    "    num_rows += 1\n",
    "\n",
    "print(\"Number of clients in customer table:\", num_rows)\n"
   ]
  }
 ],
 "metadata": {
  "kernelspec": {
   "display_name": "Python 3 (ipykernel)",
   "language": "python",
   "name": "python3"
  },
  "language_info": {
   "codemirror_mode": {
    "name": "ipython",
    "version": 3
   },
   "file_extension": ".py",
   "mimetype": "text/x-python",
   "name": "python",
   "nbconvert_exporter": "python",
   "pygments_lexer": "ipython3",
   "version": "3.11.6"
  }
 },
 "nbformat": 4,
 "nbformat_minor": 5
}
